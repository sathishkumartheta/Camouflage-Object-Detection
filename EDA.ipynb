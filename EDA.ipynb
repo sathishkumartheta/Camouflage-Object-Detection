{
 "cells": [
  {
   "cell_type": "code",
   "execution_count": 1,
   "metadata": {},
   "outputs": [],
   "source": [
    "import wandb\n",
    "from pathlib import Path\n",
    "import os\n",
    "from tqdm.auto import tqdm\n",
    "from PIL import Image\n",
    "import numpy as np"
   ]
  },
  {
   "cell_type": "code",
   "execution_count": 2,
   "metadata": {},
   "outputs": [],
   "source": [
    "os.environ['WANDB_NOTEBOOK_NAME']='EDA.ipynb'\n",
    "os.environ['WANDB_API_KEY']='be69ec2b537cb972b0106fabd867f0dc68c4468a'"
   ]
  },
  {
   "cell_type": "code",
   "execution_count": 26,
   "metadata": {},
   "outputs": [
    {
     "data": {
      "text/html": [
       "Finishing last run (ID:kwpyhak8) before initializing another..."
      ],
      "text/plain": [
       "<IPython.core.display.HTML object>"
      ]
     },
     "metadata": {},
     "output_type": "display_data"
    },
    {
     "data": {
      "text/html": [
       "Waiting for W&B process to finish... <strong style=\"color:green\">(success).</strong>"
      ],
      "text/plain": [
       "<IPython.core.display.HTML object>"
      ]
     },
     "metadata": {},
     "output_type": "display_data"
    },
    {
     "data": {
      "text/html": [
       " View run <strong style=\"color:#cdcd00\">scintillating-dog-2</strong> at: <a href=\"https://wandb.ai/sathishkumartheta/Camouflage-Object-Detection/runs/kwpyhak8\" target=\"_blank\">https://wandb.ai/sathishkumartheta/Camouflage-Object-Detection/runs/kwpyhak8</a><br/>Synced 5 W&B file(s), 0 media file(s), 0 artifact file(s) and 0 other file(s)"
      ],
      "text/plain": [
       "<IPython.core.display.HTML object>"
      ]
     },
     "metadata": {},
     "output_type": "display_data"
    },
    {
     "data": {
      "text/html": [
       "Find logs at: <code>.\\wandb\\run-20230204_110519-kwpyhak8\\logs</code>"
      ],
      "text/plain": [
       "<IPython.core.display.HTML object>"
      ]
     },
     "metadata": {},
     "output_type": "display_data"
    },
    {
     "data": {
      "text/html": [
       "Successfully finished last run (ID:kwpyhak8). Initializing new run:<br/>"
      ],
      "text/plain": [
       "<IPython.core.display.HTML object>"
      ]
     },
     "metadata": {},
     "output_type": "display_data"
    },
    {
     "data": {
      "text/html": [
       "Tracking run with wandb version 0.13.9"
      ],
      "text/plain": [
       "<IPython.core.display.HTML object>"
      ]
     },
     "metadata": {},
     "output_type": "display_data"
    },
    {
     "data": {
      "text/html": [
       "Run data is saved locally in <code>h:\\ProjectRiemann\\Camouflage-Object-Detection\\wandb\\run-20230204_112935-6p6kh08p</code>"
      ],
      "text/plain": [
       "<IPython.core.display.HTML object>"
      ]
     },
     "metadata": {},
     "output_type": "display_data"
    },
    {
     "data": {
      "text/html": [
       "Syncing run <strong><a href=\"https://wandb.ai/sathishkumartheta/Camouflage-Object-Detection/runs/6p6kh08p\" target=\"_blank\">fortuitous-dumpling-3</a></strong> to <a href=\"https://wandb.ai/sathishkumartheta/Camouflage-Object-Detection\" target=\"_blank\">Weights & Biases</a> (<a href=\"https://wandb.me/run\" target=\"_blank\">docs</a>)<br/>"
      ],
      "text/plain": [
       "<IPython.core.display.HTML object>"
      ]
     },
     "metadata": {},
     "output_type": "display_data"
    },
    {
     "data": {
      "text/html": [
       " View project at <a href=\"https://wandb.ai/sathishkumartheta/Camouflage-Object-Detection\" target=\"_blank\">https://wandb.ai/sathishkumartheta/Camouflage-Object-Detection</a>"
      ],
      "text/plain": [
       "<IPython.core.display.HTML object>"
      ]
     },
     "metadata": {},
     "output_type": "display_data"
    },
    {
     "data": {
      "text/html": [
       " View run at <a href=\"https://wandb.ai/sathishkumartheta/Camouflage-Object-Detection/runs/6p6kh08p\" target=\"_blank\">https://wandb.ai/sathishkumartheta/Camouflage-Object-Detection/runs/6p6kh08p</a>"
      ],
      "text/plain": [
       "<IPython.core.display.HTML object>"
      ]
     },
     "metadata": {},
     "output_type": "display_data"
    }
   ],
   "source": [
    "\n"
   ]
  },
  {
   "cell_type": "code",
   "execution_count": 3,
   "metadata": {},
   "outputs": [],
   "source": [
    "data_path=Path('COD10K-v2')\n",
    "train_path=data_path / 'Train'\n",
    "test_path= data_path / 'Test'\n",
    "\n",
    "train_images_path= train_path / 'Images/Image'\n",
    "train_labels_path= train_path / 'GT_Objects/GT_Object'"
   ]
  },
  {
   "cell_type": "code",
   "execution_count": 4,
   "metadata": {},
   "outputs": [
    {
     "name": "stdout",
     "output_type": "stream",
     "text": [
      "[WindowsPath('COD10K-v2/Train/Images/Image/COD10K-CAM-1-Aquatic-1-BatFish-1.jpg'), WindowsPath('COD10K-v2/Train/Images/Image/COD10K-CAM-1-Aquatic-1-BatFish-3.jpg'), WindowsPath('COD10K-v2/Train/Images/Image/COD10K-CAM-1-Aquatic-1-BatFish-7.jpg'), WindowsPath('COD10K-v2/Train/Images/Image/COD10K-CAM-1-Aquatic-1-BatFish-8.jpg'), WindowsPath('COD10K-v2/Train/Images/Image/COD10K-CAM-1-Aquatic-1-BatFish-9.jpg')]\n",
      "[WindowsPath('COD10K-v2/Train/GT_Objects/GT_Object/COD10K-CAM-1-Aquatic-1-BatFish-1.png'), WindowsPath('COD10K-v2/Train/GT_Objects/GT_Object/COD10K-CAM-1-Aquatic-1-BatFish-3.png'), WindowsPath('COD10K-v2/Train/GT_Objects/GT_Object/COD10K-CAM-1-Aquatic-1-BatFish-7.png'), WindowsPath('COD10K-v2/Train/GT_Objects/GT_Object/COD10K-CAM-1-Aquatic-1-BatFish-8.png'), WindowsPath('COD10K-v2/Train/GT_Objects/GT_Object/COD10K-CAM-1-Aquatic-1-BatFish-9.png')]\n"
     ]
    }
   ],
   "source": [
    "train_images_list=list(train_images_path.glob('*.jpg'))\n",
    "print(train_images_list[0:5])\n",
    "train_labels_list=list(train_labels_path.glob('*.png'))\n",
    "print(train_labels_list[0:5])"
   ]
  },
  {
   "cell_type": "code",
   "execution_count": 5,
   "metadata": {},
   "outputs": [
    {
     "name": "stdout",
     "output_type": "stream",
     "text": [
      "['Other', 'Terrestial', 'Amphibian', 'Background', 'Flying', 'Terrestrial', 'Aquatic']\n"
     ]
    }
   ],
   "source": [
    "super_classes_list=[ i.stem.split('-')[3] for i in train_images_list]\n",
    "super_classes_list=[*set(super_classes_list)]\n",
    "print(super_classes_list)"
   ]
  },
  {
   "cell_type": "code",
   "execution_count": 6,
   "metadata": {},
   "outputs": [
    {
     "name": "stdout",
     "output_type": "stream",
     "text": [
      "['Bee', 'Other', 'Lion', 'StarFish', 'Ocean', 'Crab', 'Fish', 'Sky', 'Frog', 'Pipefish', 'Ant', 'Chameleon', 'Flounder', 'Frogmouth', 'Vegetation', 'Bat', 'Lizard', 'BatFish', 'Kangaroo', 'Owl', 'Toad', 'Butterfly', 'Worm', 'Cheetah', 'Human', 'Sheep', 'Pagurian', 'Slug', 'Stingaree', 'Deer', 'LeafySeaDragon', 'Dog', 'Turtle', 'Grasshopper', 'Moth', 'CrocodileFish', 'Monkey', 'Tiger', 'Cicada', 'StickInsect', 'Bittern', 'FrogFish', 'Heron', 'Indoor', 'Sand', 'Octopus', 'Rabbit', 'Reccoon', 'Beetle', 'Giraffe', 'Leopard', 'Katydid', 'ClownFish', 'Crocodile', 'Sciuridae', 'Spider', 'Dragonfly', 'Bird', 'ScorpionFish', 'Duck', 'Centipede', 'Grouse', 'Mockingbird', 'Caterpillar', 'Bug', 'Snake', 'GhostPipefish', 'Mantis', 'SeaHorse', 'Gecko', 'Cat', 'Wolf', 'Owlfly', 'Shrimp']\n"
     ]
    }
   ],
   "source": [
    "index=5\n",
    "sub_classes_list=[]\n",
    "for i in train_images_list:\n",
    "    split_path=i.stem.split('-')\n",
    "    count=len(split_path)\n",
    "    if (index<count):\n",
    "        sub_classes_list.append(split_path[index])\n",
    "sub_classes_list=[*set(sub_classes_list)]\n",
    "print(sub_classes_list)\n"
   ]
  },
  {
   "cell_type": "code",
   "execution_count": 7,
   "metadata": {},
   "outputs": [],
   "source": [
    "table = wandb.Table(columns=[\"File_Name\", \"Images\", \"Split\"] )"
   ]
  },
  {
   "cell_type": "code",
   "execution_count": 9,
   "metadata": {},
   "outputs": [
    {
     "data": {
      "application/vnd.jupyter.widget-view+json": {
       "model_id": "521a9d23dc254e12b8c5fbc29f4bd8f3",
       "version_major": 2,
       "version_minor": 0
      },
      "text/plain": [
       "  0%|          | 0/6000 [00:00<?, ?it/s]"
      ]
     },
     "metadata": {},
     "output_type": "display_data"
    }
   ],
   "source": [
    "for i, image_file in enumerate(tqdm(train_images_list)):\n",
    "    image=Image.open(image_file)\n",
    "    label_name= train_labels_path / (image_file.stem)\n",
    "    label_name=str(label_name)+'.png'\n",
    "    label=np.array(Image.open(label_name))\n",
    "    split_path=image_file.stem.split('-')\n",
    "    super_class=split_path[3]\n",
    "    count=len(split_path)\n",
    "    if(5< count):\n",
    "        sub_class=split_path[5]\n",
    "    else:\n",
    "        sub_class='None'\n",
    "    table.add_data(str(image_file),\n",
    "                    wandb.Image(\n",
    "                        image,\n",
    "                        masks={\n",
    "                            \"predictions\" : {\n",
    "                                \"mask_data\" : label\n",
    "\n",
    "                            }\n",
    "                        }\n",
    "\n",
    "                    ),\n",
    "                    'Train'\n",
    "            \n",
    "                    \n",
    "    )"
   ]
  },
  {
   "cell_type": "code",
   "execution_count": 8,
   "metadata": {},
   "outputs": [
    {
     "name": "stderr",
     "output_type": "stream",
     "text": [
      "\u001b[34m\u001b[1mwandb\u001b[0m: Currently logged in as: \u001b[33msathishkumartheta\u001b[0m. Use \u001b[1m`wandb login --relogin`\u001b[0m to force relogin\n"
     ]
    },
    {
     "data": {
      "text/html": [
       "Tracking run with wandb version 0.13.9"
      ],
      "text/plain": [
       "<IPython.core.display.HTML object>"
      ]
     },
     "metadata": {},
     "output_type": "display_data"
    },
    {
     "data": {
      "text/html": [
       "Run data is saved locally in <code>h:\\ProjectRiemann\\Camouflage-Object-Detection\\wandb\\run-20230207_094425-4x5zfoq9</code>"
      ],
      "text/plain": [
       "<IPython.core.display.HTML object>"
      ]
     },
     "metadata": {},
     "output_type": "display_data"
    },
    {
     "data": {
      "text/html": [
       "Syncing run <strong><a href=\"https://wandb.ai/sathishkumartheta/Camouflage-Object-Detection/runs/4x5zfoq9\" target=\"_blank\">floral-sun-4</a></strong> to <a href=\"https://wandb.ai/sathishkumartheta/Camouflage-Object-Detection\" target=\"_blank\">Weights & Biases</a> (<a href=\"https://wandb.me/run\" target=\"_blank\">docs</a>)<br/>"
      ],
      "text/plain": [
       "<IPython.core.display.HTML object>"
      ]
     },
     "metadata": {},
     "output_type": "display_data"
    },
    {
     "data": {
      "text/html": [
       " View project at <a href=\"https://wandb.ai/sathishkumartheta/Camouflage-Object-Detection\" target=\"_blank\">https://wandb.ai/sathishkumartheta/Camouflage-Object-Detection</a>"
      ],
      "text/plain": [
       "<IPython.core.display.HTML object>"
      ]
     },
     "metadata": {},
     "output_type": "display_data"
    },
    {
     "data": {
      "text/html": [
       " View run at <a href=\"https://wandb.ai/sathishkumartheta/Camouflage-Object-Detection/runs/4x5zfoq9\" target=\"_blank\">https://wandb.ai/sathishkumartheta/Camouflage-Object-Detection/runs/4x5zfoq9</a>"
      ],
      "text/plain": [
       "<IPython.core.display.HTML object>"
      ]
     },
     "metadata": {},
     "output_type": "display_data"
    }
   ],
   "source": [
    "run = wandb.init(project='Camouflage-Object-Detection', entity='sathishkumartheta', job_type=\"upload\")\n",
    "\n",
    "\n"
   ]
  },
  {
   "cell_type": "code",
   "execution_count": 10,
   "metadata": {},
   "outputs": [
    {
     "data": {
      "text/plain": [
       "ArtifactManifestEntry(path='eda_table.table.json', digest='WvxNzSCf6wjohNs+1w2cbw==', ref=None, birth_artifact_id=None, size=3703292, extra={}, local_path='C:\\\\Users\\\\Sathishkumar\\\\AppData\\\\Local\\\\wandb\\\\wandb\\\\artifacts\\\\staging\\\\tmpnunpp0ln')"
      ]
     },
     "execution_count": 10,
     "metadata": {},
     "output_type": "execute_result"
    }
   ],
   "source": [
    "raw_data_at = wandb.Artifact('COD10K-v2', type=\"raw_data\")\n",
    "raw_data_at.add(table, \"eda_table\")"
   ]
  },
  {
   "cell_type": "code",
   "execution_count": 11,
   "metadata": {},
   "outputs": [
    {
     "data": {
      "text/html": [
       "Waiting for W&B process to finish... <strong style=\"color:green\">(success).</strong>"
      ],
      "text/plain": [
       "<IPython.core.display.HTML object>"
      ]
     },
     "metadata": {},
     "output_type": "display_data"
    },
    {
     "data": {
      "text/html": [
       " View run <strong style=\"color:#cdcd00\">floral-sun-4</strong> at: <a href=\"https://wandb.ai/sathishkumartheta/Camouflage-Object-Detection/runs/4x5zfoq9\" target=\"_blank\">https://wandb.ai/sathishkumartheta/Camouflage-Object-Detection/runs/4x5zfoq9</a><br/>Synced 4 W&B file(s), 0 media file(s), 9561 artifact file(s) and 0 other file(s)"
      ],
      "text/plain": [
       "<IPython.core.display.HTML object>"
      ]
     },
     "metadata": {},
     "output_type": "display_data"
    },
    {
     "data": {
      "text/html": [
       "Find logs at: <code>.\\wandb\\run-20230207_094425-4x5zfoq9\\logs</code>"
      ],
      "text/plain": [
       "<IPython.core.display.HTML object>"
      ]
     },
     "metadata": {},
     "output_type": "display_data"
    }
   ],
   "source": [
    "\n",
    "run.log_artifact(raw_data_at)\n",
    "run.finish()"
   ]
  }
 ],
 "metadata": {
  "kernelspec": {
   "display_name": "CamoTorch",
   "language": "python",
   "name": "python3"
  },
  "language_info": {
   "codemirror_mode": {
    "name": "ipython",
    "version": 3
   },
   "file_extension": ".py",
   "mimetype": "text/x-python",
   "name": "python",
   "nbconvert_exporter": "python",
   "pygments_lexer": "ipython3",
   "version": "3.10.9"
  },
  "orig_nbformat": 4,
  "vscode": {
   "interpreter": {
    "hash": "c8dfefa0a330f1004656b728bf5672d1ba80d727fe596d05a38b39e7abf92664"
   }
  }
 },
 "nbformat": 4,
 "nbformat_minor": 2
}
