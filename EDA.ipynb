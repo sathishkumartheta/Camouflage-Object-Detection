{
 "cells": [
  {
   "cell_type": "code",
   "execution_count": 24,
   "metadata": {},
   "outputs": [],
   "source": [
    "import wandb\n",
    "from pathlib import Path\n",
    "import os\n",
    "from tqdm.auto import tqdm\n",
    "from PIL import Image"
   ]
  },
  {
   "cell_type": "code",
   "execution_count": 25,
   "metadata": {},
   "outputs": [],
   "source": [
    "os.environ['WANDB_NOTEBOOK_NAME']='EDA.ipynb'\n",
    "os.environ['WANDB_API_KEY']='be69ec2b537cb972b0106fabd867f0dc68c4468a'"
   ]
  },
  {
   "cell_type": "code",
   "execution_count": 26,
   "metadata": {},
   "outputs": [
    {
     "data": {
      "text/html": [
       "Finishing last run (ID:kwpyhak8) before initializing another..."
      ],
      "text/plain": [
       "<IPython.core.display.HTML object>"
      ]
     },
     "metadata": {},
     "output_type": "display_data"
    },
    {
     "data": {
      "text/html": [
       "Waiting for W&B process to finish... <strong style=\"color:green\">(success).</strong>"
      ],
      "text/plain": [
       "<IPython.core.display.HTML object>"
      ]
     },
     "metadata": {},
     "output_type": "display_data"
    },
    {
     "data": {
      "text/html": [
       " View run <strong style=\"color:#cdcd00\">scintillating-dog-2</strong> at: <a href=\"https://wandb.ai/sathishkumartheta/Camouflage-Object-Detection/runs/kwpyhak8\" target=\"_blank\">https://wandb.ai/sathishkumartheta/Camouflage-Object-Detection/runs/kwpyhak8</a><br/>Synced 5 W&B file(s), 0 media file(s), 0 artifact file(s) and 0 other file(s)"
      ],
      "text/plain": [
       "<IPython.core.display.HTML object>"
      ]
     },
     "metadata": {},
     "output_type": "display_data"
    },
    {
     "data": {
      "text/html": [
       "Find logs at: <code>.\\wandb\\run-20230204_110519-kwpyhak8\\logs</code>"
      ],
      "text/plain": [
       "<IPython.core.display.HTML object>"
      ]
     },
     "metadata": {},
     "output_type": "display_data"
    },
    {
     "data": {
      "text/html": [
       "Successfully finished last run (ID:kwpyhak8). Initializing new run:<br/>"
      ],
      "text/plain": [
       "<IPython.core.display.HTML object>"
      ]
     },
     "metadata": {},
     "output_type": "display_data"
    },
    {
     "data": {
      "text/html": [
       "Tracking run with wandb version 0.13.9"
      ],
      "text/plain": [
       "<IPython.core.display.HTML object>"
      ]
     },
     "metadata": {},
     "output_type": "display_data"
    },
    {
     "data": {
      "text/html": [
       "Run data is saved locally in <code>h:\\ProjectRiemann\\Camouflage-Object-Detection\\wandb\\run-20230204_112935-6p6kh08p</code>"
      ],
      "text/plain": [
       "<IPython.core.display.HTML object>"
      ]
     },
     "metadata": {},
     "output_type": "display_data"
    },
    {
     "data": {
      "text/html": [
       "Syncing run <strong><a href=\"https://wandb.ai/sathishkumartheta/Camouflage-Object-Detection/runs/6p6kh08p\" target=\"_blank\">fortuitous-dumpling-3</a></strong> to <a href=\"https://wandb.ai/sathishkumartheta/Camouflage-Object-Detection\" target=\"_blank\">Weights & Biases</a> (<a href=\"https://wandb.me/run\" target=\"_blank\">docs</a>)<br/>"
      ],
      "text/plain": [
       "<IPython.core.display.HTML object>"
      ]
     },
     "metadata": {},
     "output_type": "display_data"
    },
    {
     "data": {
      "text/html": [
       " View project at <a href=\"https://wandb.ai/sathishkumartheta/Camouflage-Object-Detection\" target=\"_blank\">https://wandb.ai/sathishkumartheta/Camouflage-Object-Detection</a>"
      ],
      "text/plain": [
       "<IPython.core.display.HTML object>"
      ]
     },
     "metadata": {},
     "output_type": "display_data"
    },
    {
     "data": {
      "text/html": [
       " View run at <a href=\"https://wandb.ai/sathishkumartheta/Camouflage-Object-Detection/runs/6p6kh08p\" target=\"_blank\">https://wandb.ai/sathishkumartheta/Camouflage-Object-Detection/runs/6p6kh08p</a>"
      ],
      "text/plain": [
       "<IPython.core.display.HTML object>"
      ]
     },
     "metadata": {},
     "output_type": "display_data"
    }
   ],
   "source": [
    "\n",
    "run = wandb.init(project='Camouflage-Object-Detection', entity='sathishkumartheta', job_type=\"upload\")"
   ]
  },
  {
   "cell_type": "code",
   "execution_count": 27,
   "metadata": {},
   "outputs": [],
   "source": [
    "data_path=Path('COD10K-v2')\n",
    "train_path=data_path / 'Train'\n",
    "test_path= data_path / 'Test'\n",
    "\n",
    "train_images_path= train_path / 'Images/Image'\n",
    "train_labels_path= train_path / 'GT_Objects/GT_Object'"
   ]
  },
  {
   "cell_type": "code",
   "execution_count": 28,
   "metadata": {},
   "outputs": [
    {
     "name": "stdout",
     "output_type": "stream",
     "text": [
      "[WindowsPath('COD10K-v2/Train/Images/Image/COD10K-CAM-1-Aquatic-1-BatFish-1.jpg'), WindowsPath('COD10K-v2/Train/Images/Image/COD10K-CAM-1-Aquatic-1-BatFish-3.jpg'), WindowsPath('COD10K-v2/Train/Images/Image/COD10K-CAM-1-Aquatic-1-BatFish-7.jpg'), WindowsPath('COD10K-v2/Train/Images/Image/COD10K-CAM-1-Aquatic-1-BatFish-8.jpg'), WindowsPath('COD10K-v2/Train/Images/Image/COD10K-CAM-1-Aquatic-1-BatFish-9.jpg')]\n",
      "[WindowsPath('COD10K-v2/Train/GT_Objects/GT_Object/COD10K-CAM-1-Aquatic-1-BatFish-1.png'), WindowsPath('COD10K-v2/Train/GT_Objects/GT_Object/COD10K-CAM-1-Aquatic-1-BatFish-3.png'), WindowsPath('COD10K-v2/Train/GT_Objects/GT_Object/COD10K-CAM-1-Aquatic-1-BatFish-7.png'), WindowsPath('COD10K-v2/Train/GT_Objects/GT_Object/COD10K-CAM-1-Aquatic-1-BatFish-8.png'), WindowsPath('COD10K-v2/Train/GT_Objects/GT_Object/COD10K-CAM-1-Aquatic-1-BatFish-9.png')]\n"
     ]
    }
   ],
   "source": [
    "train_images_list=list(train_images_path.glob('*.jpg'))\n",
    "print(train_images_list[0:5])\n",
    "train_labels_list=list(train_labels_path.glob('*.png'))\n",
    "print(train_labels_list[0:5])"
   ]
  },
  {
   "cell_type": "code",
   "execution_count": 29,
   "metadata": {},
   "outputs": [
    {
     "name": "stdout",
     "output_type": "stream",
     "text": [
      "['Amphibian', 'Terrestrial', 'Other', 'Background', 'Terrestial', 'Flying', 'Aquatic']\n"
     ]
    }
   ],
   "source": [
    "super_classes_list=[ i.stem.split('-')[3] for i in train_images_list]\n",
    "super_classes_list=[*set(super_classes_list)]\n",
    "print(super_classes_list)"
   ]
  },
  {
   "cell_type": "code",
   "execution_count": 30,
   "metadata": {},
   "outputs": [
    {
     "name": "stdout",
     "output_type": "stream",
     "text": [
      "['Leopard', 'Human', 'Bat', 'CrocodileFish', 'Owlfly', 'Rabbit', 'Worm', 'Ocean', 'ScorpionFish', 'Crocodile', 'Sheep', 'GhostPipefish', 'Pipefish', 'BatFish', 'Crab', 'StickInsect', 'Owl', 'Sciuridae', 'Wolf', 'Mockingbird', 'Centipede', 'Mantis', 'Deer', 'Reccoon', 'Tiger', 'Moth', 'Bird', 'Shrimp', 'Duck', 'LeafySeaDragon', 'Caterpillar', 'Cheetah', 'Kangaroo', 'Spider', 'Bug', 'Flounder', 'Cat', 'Monkey', 'Frog', 'Turtle', 'Grouse', 'Frogmouth', 'Indoor', 'Lion', 'Snake', 'Cicada', 'Giraffe', 'Pagurian', 'Other', 'Chameleon', 'Sky', 'Vegetation', 'Stingaree', 'Beetle', 'StarFish', 'Dog', 'Dragonfly', 'Grasshopper', 'Toad', 'Sand', 'FrogFish', 'Butterfly', 'Heron', 'Slug', 'Katydid', 'ClownFish', 'Gecko', 'Octopus', 'Bittern', 'SeaHorse', 'Ant', 'Fish', 'Bee', 'Lizard']\n"
     ]
    }
   ],
   "source": [
    "index=5\n",
    "sub_classes_list=[]\n",
    "for i in train_images_list:\n",
    "    split_path=i.stem.split('-')\n",
    "    count=len(split_path)\n",
    "    if (index<count):\n",
    "        sub_classes_list.append(split_path[index])\n",
    "sub_classes_list=[*set(sub_classes_list)]\n",
    "print(sub_classes_list)\n"
   ]
  },
  {
   "cell_type": "code",
   "execution_count": 44,
   "metadata": {},
   "outputs": [
    {
     "ename": "NameError",
     "evalue": "name 'sub_class' is not defined",
     "output_type": "error",
     "traceback": [
      "\u001b[1;31m---------------------------------------------------------------------------\u001b[0m",
      "\u001b[1;31mNameError\u001b[0m                                 Traceback (most recent call last)",
      "Cell \u001b[1;32mIn[44], line 1\u001b[0m\n\u001b[1;32m----> 1\u001b[0m table \u001b[39m=\u001b[39m wandb\u001b[39m.\u001b[39mTable(columns\u001b[39m=\u001b[39m[\u001b[39m\"\u001b[39m\u001b[39mFile_Name\u001b[39m\u001b[39m\"\u001b[39m, \u001b[39m\"\u001b[39m\u001b[39mImages\u001b[39m\u001b[39m\"\u001b[39m, \u001b[39m\"\u001b[39m\u001b[39mSplit\u001b[39m\u001b[39m\"\u001b[39m] \u001b[39m+\u001b[39m  sub_class \u001b[39m+\u001b[39m super_class)\n",
      "\u001b[1;31mNameError\u001b[0m: name 'sub_class' is not defined"
     ]
    }
   ],
   "source": [
    "table = wandb.Table(columns=[\"File_Name\", \"Images\", \"Split\"] +  sub_classes_list + super_classes_list)"
   ]
  },
  {
   "cell_type": "code",
   "execution_count": 47,
   "metadata": {},
   "outputs": [
    {
     "name": "stderr",
     "output_type": "stream",
     "text": [
      "  0%|          | 0/6000 [00:00<?, ?it/s]\n"
     ]
    },
    {
     "ename": "AttributeError",
     "evalue": "shape",
     "output_type": "error",
     "traceback": [
      "\u001b[1;31m---------------------------------------------------------------------------\u001b[0m",
      "\u001b[1;31mAttributeError\u001b[0m                            Traceback (most recent call last)",
      "Cell \u001b[1;32mIn[47], line 14\u001b[0m\n\u001b[0;32m     11\u001b[0m \u001b[39melse\u001b[39;00m:\n\u001b[0;32m     12\u001b[0m     sub_class\u001b[39m=\u001b[39m\u001b[39m'\u001b[39m\u001b[39mNone\u001b[39m\u001b[39m'\u001b[39m\n\u001b[0;32m     13\u001b[0m table\u001b[39m.\u001b[39madd_data(\u001b[39mstr\u001b[39m(image_file),\n\u001b[1;32m---> 14\u001b[0m                 wandb\u001b[39m.\u001b[39;49mImage(\n\u001b[0;32m     15\u001b[0m                     image,\n\u001b[0;32m     16\u001b[0m                     masks\u001b[39m=\u001b[39;49m{\n\u001b[0;32m     17\u001b[0m                         \u001b[39m\"\u001b[39;49m\u001b[39mpredictions\u001b[39;49m\u001b[39m\"\u001b[39;49m : {\n\u001b[0;32m     18\u001b[0m                             \u001b[39m\"\u001b[39;49m\u001b[39mmask_data\u001b[39;49m\u001b[39m\"\u001b[39;49m : label\n\u001b[0;32m     19\u001b[0m \n\u001b[0;32m     20\u001b[0m                         }\n\u001b[0;32m     21\u001b[0m                     }\n\u001b[0;32m     22\u001b[0m \n\u001b[0;32m     23\u001b[0m                 ),\n\u001b[0;32m     24\u001b[0m                 \u001b[39m'\u001b[39m\u001b[39mTrain\u001b[39m\u001b[39m'\u001b[39m,\n\u001b[0;32m     25\u001b[0m                 sub_class,\n\u001b[0;32m     26\u001b[0m                 super_class\n\u001b[0;32m     27\u001b[0m                 \n\u001b[0;32m     28\u001b[0m )\n",
      "File \u001b[1;32mc:\\Users\\Sathishkumar\\.conda\\envs\\CamoTorch\\lib\\site-packages\\wandb\\sdk\\data_types\\image.py:160\u001b[0m, in \u001b[0;36mImage.__init__\u001b[1;34m(self, data_or_path, mode, caption, grouping, classes, boxes, masks)\u001b[0m\n\u001b[0;32m    157\u001b[0m \u001b[39melse\u001b[39;00m:\n\u001b[0;32m    158\u001b[0m     \u001b[39mself\u001b[39m\u001b[39m.\u001b[39m_initialize_from_data(data_or_path, mode)\n\u001b[1;32m--> 160\u001b[0m \u001b[39mself\u001b[39;49m\u001b[39m.\u001b[39;49m_set_initialization_meta(grouping, caption, classes, boxes, masks)\n",
      "File \u001b[1;32mc:\\Users\\Sathishkumar\\.conda\\envs\\CamoTorch\\lib\\site-packages\\wandb\\sdk\\data_types\\image.py:202\u001b[0m, in \u001b[0;36mImage._set_initialization_meta\u001b[1;34m(self, grouping, caption, classes, boxes, masks)\u001b[0m\n\u001b[0;32m    199\u001b[0m     masks_final[key] \u001b[39m=\u001b[39m mask_item\n\u001b[0;32m    200\u001b[0m \u001b[39melif\u001b[39;00m \u001b[39misinstance\u001b[39m(mask_item, \u001b[39mdict\u001b[39m):\n\u001b[0;32m    201\u001b[0m     \u001b[39m# TODO: Consider injecting top-level classes if user-provided is empty\u001b[39;00m\n\u001b[1;32m--> 202\u001b[0m     masks_final[key] \u001b[39m=\u001b[39m ImageMask(mask_item, key)\n\u001b[0;32m    203\u001b[0m \u001b[39mif\u001b[39;00m \u001b[39mhasattr\u001b[39m(masks_final[key], \u001b[39m\"\u001b[39m\u001b[39m_val\u001b[39m\u001b[39m\"\u001b[39m):\n\u001b[0;32m    204\u001b[0m     total_classes\u001b[39m.\u001b[39mupdate(masks_final[key]\u001b[39m.\u001b[39m_val[\u001b[39m\"\u001b[39m\u001b[39mclass_labels\u001b[39m\u001b[39m\"\u001b[39m])\n",
      "File \u001b[1;32mc:\\Users\\Sathishkumar\\.conda\\envs\\CamoTorch\\lib\\site-packages\\wandb\\sdk\\data_types\\helper_types\\image_mask.py:145\u001b[0m, in \u001b[0;36mImageMask.__init__\u001b[1;34m(self, val, key)\u001b[0m\n\u001b[0;32m    142\u001b[0m     class_labels \u001b[39m=\u001b[39m {c: \u001b[39m\"\u001b[39m\u001b[39mclass_\u001b[39m\u001b[39m\"\u001b[39m \u001b[39m+\u001b[39m \u001b[39mstr\u001b[39m(c) \u001b[39mfor\u001b[39;00m c \u001b[39min\u001b[39;00m classes}\n\u001b[0;32m    143\u001b[0m     val[\u001b[39m\"\u001b[39m\u001b[39mclass_labels\u001b[39m\u001b[39m\"\u001b[39m] \u001b[39m=\u001b[39m class_labels\n\u001b[1;32m--> 145\u001b[0m \u001b[39mself\u001b[39;49m\u001b[39m.\u001b[39;49mvalidate(val)\n\u001b[0;32m    146\u001b[0m \u001b[39mself\u001b[39m\u001b[39m.\u001b[39m_val \u001b[39m=\u001b[39m val\n\u001b[0;32m    147\u001b[0m \u001b[39mself\u001b[39m\u001b[39m.\u001b[39m_key \u001b[39m=\u001b[39m key\n",
      "File \u001b[1;32mc:\\Users\\Sathishkumar\\.conda\\envs\\CamoTorch\\lib\\site-packages\\wandb\\sdk\\data_types\\helper_types\\image_mask.py:219\u001b[0m, in \u001b[0;36mImageMask.validate\u001b[1;34m(self, val)\u001b[0m\n\u001b[0;32m    217\u001b[0m \u001b[39melse\u001b[39;00m:\n\u001b[0;32m    218\u001b[0m     error_str \u001b[39m=\u001b[39m \u001b[39m\"\u001b[39m\u001b[39mmask_data must be a 2D array\u001b[39m\u001b[39m\"\u001b[39m\n\u001b[1;32m--> 219\u001b[0m     shape \u001b[39m=\u001b[39m val[\u001b[39m\"\u001b[39;49m\u001b[39mmask_data\u001b[39;49m\u001b[39m\"\u001b[39;49m]\u001b[39m.\u001b[39;49mshape\n\u001b[0;32m    220\u001b[0m     \u001b[39mif\u001b[39;00m \u001b[39mlen\u001b[39m(shape) \u001b[39m!=\u001b[39m \u001b[39m2\u001b[39m:\n\u001b[0;32m    221\u001b[0m         \u001b[39mraise\u001b[39;00m \u001b[39mTypeError\u001b[39;00m(error_str)\n",
      "File \u001b[1;32mc:\\Users\\Sathishkumar\\.conda\\envs\\CamoTorch\\lib\\site-packages\\PIL\\Image.py:519\u001b[0m, in \u001b[0;36mImage.__getattr__\u001b[1;34m(self, name)\u001b[0m\n\u001b[0;32m    512\u001b[0m     warnings\u001b[39m.\u001b[39mwarn(\n\u001b[0;32m    513\u001b[0m         \u001b[39m\"\u001b[39m\u001b[39mImage categories are deprecated and will be removed in Pillow 10 \u001b[39m\u001b[39m\"\u001b[39m\n\u001b[0;32m    514\u001b[0m         \u001b[39m\"\u001b[39m\u001b[39m(2023-07-01). Use is_animated instead.\u001b[39m\u001b[39m\"\u001b[39m,\n\u001b[0;32m    515\u001b[0m         \u001b[39mDeprecationWarning\u001b[39;00m,\n\u001b[0;32m    516\u001b[0m         stacklevel\u001b[39m=\u001b[39m\u001b[39m2\u001b[39m,\n\u001b[0;32m    517\u001b[0m     )\n\u001b[0;32m    518\u001b[0m     \u001b[39mreturn\u001b[39;00m \u001b[39mself\u001b[39m\u001b[39m.\u001b[39m_category\n\u001b[1;32m--> 519\u001b[0m \u001b[39mraise\u001b[39;00m \u001b[39mAttributeError\u001b[39;00m(name)\n",
      "\u001b[1;31mAttributeError\u001b[0m: shape"
     ]
    }
   ],
   "source": [
    "for i, image_file in enumerate(tqdm(train_images_list)):\n",
    "    image=Image.open(image_file)\n",
    "    label_name= train_labels_path / (image_file.stem)\n",
    "    label_name=str(label_name)+'.png'\n",
    "    label=Image.open(label_name)\n",
    "    split_path=image_file.stem.split('-')\n",
    "    super_class=split_path[3]\n",
    "    count=len(split_path)\n",
    "    if(5< count):\n",
    "        sub_class=split_path[5]\n",
    "    else:\n",
    "        sub_class='None'\n",
    "    table.add_data(str(image_file),\n",
    "                    wandb.Image(\n",
    "                        image,\n",
    "                        masks={\n",
    "                            \"predictions\" : {\n",
    "                                \"mask_data\" : label\n",
    "\n",
    "                            }\n",
    "                        }\n",
    "\n",
    "                    ),\n",
    "                    'Train',\n",
    "                    sub_class,\n",
    "                    super_class\n",
    "                    \n",
    "    )"
   ]
  }
 ],
 "metadata": {
  "kernelspec": {
   "display_name": "CamoTorch",
   "language": "python",
   "name": "python3"
  },
  "language_info": {
   "codemirror_mode": {
    "name": "ipython",
    "version": 3
   },
   "file_extension": ".py",
   "mimetype": "text/x-python",
   "name": "python",
   "nbconvert_exporter": "python",
   "pygments_lexer": "ipython3",
   "version": "3.10.9"
  },
  "orig_nbformat": 4,
  "vscode": {
   "interpreter": {
    "hash": "c8dfefa0a330f1004656b728bf5672d1ba80d727fe596d05a38b39e7abf92664"
   }
  }
 },
 "nbformat": 4,
 "nbformat_minor": 2
}
