{
 "cells": [
  {
   "cell_type": "code",
   "execution_count": 1,
   "metadata": {},
   "outputs": [
    {
     "name": "stderr",
     "output_type": "stream",
     "text": [
      "c:\\Users\\ADMIN\\.conda\\envs\\CamoTorch\\lib\\site-packages\\tqdm\\auto.py:22: TqdmWarning: IProgress not found. Please update jupyter and ipywidgets. See https://ipywidgets.readthedocs.io/en/stable/user_install.html\n",
      "  from .autonotebook import tqdm as notebook_tqdm\n"
     ]
    }
   ],
   "source": [
    "import wandb\n",
    "from pathlib import Path\n",
    "import os\n",
    "from tqdm.auto import tqdm\n",
    "from PIL import Image\n",
    "import numpy as np"
   ]
  },
  {
   "cell_type": "code",
   "execution_count": 8,
   "metadata": {},
   "outputs": [],
   "source": [
    "os.environ['WANDB_NOTEBOOK_NAME']='EDA.ipynb'\n"
   ]
  },
  {
   "cell_type": "code",
   "execution_count": 9,
   "metadata": {},
   "outputs": [
    {
     "name": "stderr",
     "output_type": "stream",
     "text": [
      "wandb: Currently logged in as: sathishkumartheta. Use `wandb login --relogin` to force relogin\n"
     ]
    }
   ],
   "source": [
    "Logging_Place= 'LOCAL'\n",
    "\n",
    "if Logging_Place == 'LOCAL':\n",
    "    os.environ['WANDB_BASE_URL']=\"http://10.24.1.19:8080\"\n",
    "    os.environ['WANDB_API_KEY']='local-96dd72cbb60b0155149e2f9dc985a636ffa77b28'\n",
    "    ! wandb login --host=http://10.24.1.19:8080\n",
    "\n",
    "elif Logging_Place ==\"CLOUD\":\n",
    "    os.environ['WANDB_BASE_URL']=\"https://api.wandb.ai\"\n",
    "    os.environ['WANDB_API_KEY']='be69ec2b537cb972b0106fabd867f0dc68c4468a'\n",
    "    ! wandb login --host=https://api.wandb.ai\n",
    "\n",
    "\n",
    "\n"
   ]
  },
  {
   "cell_type": "code",
   "execution_count": 10,
   "metadata": {},
   "outputs": [],
   "source": [
    "data_path=Path('COD10K-v2')\n",
    "train_path=data_path / 'Train'\n",
    "test_path= data_path / 'Test'\n",
    "\n",
    "train_images_path= train_path / 'Images/Image'\n",
    "train_labels_path= train_path / 'GT_Objects/GT_Object'"
   ]
  },
  {
   "cell_type": "code",
   "execution_count": 11,
   "metadata": {},
   "outputs": [
    {
     "name": "stdout",
     "output_type": "stream",
     "text": [
      "[WindowsPath('COD10K-v2/Train/Images/Image/COD10K-CAM-1-Aquatic-1-BatFish-1.jpg'), WindowsPath('COD10K-v2/Train/Images/Image/COD10K-CAM-1-Aquatic-1-BatFish-3.jpg'), WindowsPath('COD10K-v2/Train/Images/Image/COD10K-CAM-1-Aquatic-1-BatFish-7.jpg'), WindowsPath('COD10K-v2/Train/Images/Image/COD10K-CAM-1-Aquatic-1-BatFish-8.jpg'), WindowsPath('COD10K-v2/Train/Images/Image/COD10K-CAM-1-Aquatic-1-BatFish-9.jpg')]\n",
      "[WindowsPath('COD10K-v2/Train/GT_Objects/GT_Object/COD10K-CAM-1-Aquatic-1-BatFish-1.png'), WindowsPath('COD10K-v2/Train/GT_Objects/GT_Object/COD10K-CAM-1-Aquatic-1-BatFish-3.png'), WindowsPath('COD10K-v2/Train/GT_Objects/GT_Object/COD10K-CAM-1-Aquatic-1-BatFish-7.png'), WindowsPath('COD10K-v2/Train/GT_Objects/GT_Object/COD10K-CAM-1-Aquatic-1-BatFish-8.png'), WindowsPath('COD10K-v2/Train/GT_Objects/GT_Object/COD10K-CAM-1-Aquatic-1-BatFish-9.png')]\n"
     ]
    }
   ],
   "source": [
    "train_images_list=list(train_images_path.glob('*.jpg'))\n",
    "print(train_images_list[0:5])\n",
    "train_labels_list=list(train_labels_path.glob('*.png'))\n",
    "print(train_labels_list[0:5])"
   ]
  },
  {
   "cell_type": "code",
   "execution_count": 12,
   "metadata": {},
   "outputs": [
    {
     "name": "stdout",
     "output_type": "stream",
     "text": [
      "['Aquatic', 'Other', 'Amphibian', 'Terrestrial', 'Flying', 'Terrestial', 'Background']\n"
     ]
    }
   ],
   "source": [
    "super_classes_list=[ i.stem.split('-')[3] for i in train_images_list]\n",
    "super_classes_list=[*set(super_classes_list)]\n",
    "print(super_classes_list)"
   ]
  },
  {
   "cell_type": "code",
   "execution_count": 13,
   "metadata": {},
   "outputs": [
    {
     "name": "stdout",
     "output_type": "stream",
     "text": [
      "['Sand', 'Vegetation', 'Giraffe', 'StarFish', 'ScorpionFish', 'Caterpillar', 'Fish', 'Worm', 'Mantis', 'Owlfly', 'Sky', 'Lion', 'Pipefish', 'Bird', 'Grasshopper', 'Turtle', 'Moth', 'Sciuridae', 'Indoor', 'Dragonfly', 'Grouse', 'Duck', 'Cat', 'Snake', 'CrocodileFish', 'Shrimp', 'GhostPipefish', 'Bug', 'Stingaree', 'Frog', 'Rabbit', 'FrogFish', 'Reccoon', 'Crab', 'Spider', 'Beetle', 'StickInsect', 'Mockingbird', 'Ant', 'Kangaroo', 'Deer', 'Frogmouth', 'BatFish', 'Leopard', 'Lizard', 'Chameleon', 'Other', 'LeafySeaDragon', 'Gecko', 'Tiger', 'Cicada', 'Owl', 'Dog', 'Bittern', 'Heron', 'Slug', 'Monkey', 'Ocean', 'Sheep', 'Bat', 'Toad', 'Wolf', 'Human', 'Pagurian', 'ClownFish', 'Bee', 'Octopus', 'Katydid', 'Cheetah', 'Flounder', 'Butterfly', 'Centipede', 'SeaHorse', 'Crocodile']\n"
     ]
    }
   ],
   "source": [
    "index=5\n",
    "sub_classes_list=[]\n",
    "for i in train_images_list:\n",
    "    split_path=i.stem.split('-')\n",
    "    count=len(split_path)\n",
    "    if (index<count):\n",
    "        sub_classes_list.append(split_path[index])\n",
    "sub_classes_list=[*set(sub_classes_list)]\n",
    "print(sub_classes_list)\n"
   ]
  },
  {
   "cell_type": "code",
   "execution_count": 35,
   "metadata": {},
   "outputs": [],
   "source": [
    "table = wandb.Table(columns=[\"File_Name\", \"Images\",\"Label\" ,\"Split\",\"super_class\",\"sub_class\"] )"
   ]
  },
  {
   "cell_type": "code",
   "execution_count": 38,
   "metadata": {},
   "outputs": [
    {
     "name": "stderr",
     "output_type": "stream",
     "text": [
      "100%|██████████| 6000/6000 [22:28<00:00,  4.45it/s]  \n"
     ]
    }
   ],
   "source": [
    "for i, image_file in enumerate(tqdm(train_images_list)):\n",
    "    image=Image.open(image_file)\n",
    "    label_name= train_labels_path / (image_file.stem)\n",
    "    label_name=str(label_name)+'.png'\n",
    "    label=np.array(Image.open(label_name))\n",
    "    split_path=image_file.stem.split('-')\n",
    "    super_class=split_path[3]\n",
    "    count=len(split_path)\n",
    "    if(5< count):\n",
    "        sub_class=split_path[5]\n",
    "    else:\n",
    "        sub_class='None'\n",
    "    table.add_data(str(image_file),\n",
    "                    wandb.Image(\n",
    "                        image\n",
    "                    ),\n",
    "                    wandb.Image(\n",
    "                        label\n",
    "                    ),\n",
    "                    'Train',\n",
    "                    super_class,\n",
    "                    sub_class\n",
    "            \n",
    "                    \n",
    "    )"
   ]
  },
  {
   "cell_type": "code",
   "execution_count": 37,
   "metadata": {},
   "outputs": [
    {
     "data": {
      "text/plain": [
       "[['COD10K-v2\\\\Train\\\\Images\\\\Image\\\\COD10K-CAM-1-Aquatic-1-BatFish-1.jpg',\n",
       "  <wandb.sdk.data_types.image.Image at 0x1d391f54b20>,\n",
       "  <wandb.sdk.data_types.image.Image at 0x1d381073640>,\n",
       "  'Train',\n",
       "  'Aquatic',\n",
       "  'BatFish'],\n",
       " ['COD10K-v2\\\\Train\\\\Images\\\\Image\\\\COD10K-CAM-1-Aquatic-1-BatFish-3.jpg',\n",
       "  <wandb.sdk.data_types.image.Image at 0x1d39257ca60>,\n",
       "  <wandb.sdk.data_types.image.Image at 0x1d39452ace0>,\n",
       "  'Train',\n",
       "  'Aquatic',\n",
       "  'BatFish']]"
      ]
     },
     "execution_count": 37,
     "metadata": {},
     "output_type": "execute_result"
    }
   ],
   "source": [
    "table.data"
   ]
  },
  {
   "cell_type": "code",
   "execution_count": 39,
   "metadata": {},
   "outputs": [
    {
     "data": {
      "text/html": [
       "wandb version 0.13.10 is available!  To upgrade, please run:\n",
       " $ pip install wandb --upgrade"
      ],
      "text/plain": [
       "<IPython.core.display.HTML object>"
      ]
     },
     "metadata": {},
     "output_type": "display_data"
    },
    {
     "data": {
      "text/html": [
       "Tracking run with wandb version 0.13.9"
      ],
      "text/plain": [
       "<IPython.core.display.HTML object>"
      ]
     },
     "metadata": {},
     "output_type": "display_data"
    },
    {
     "data": {
      "text/html": [
       "Run data is saved locally in <code>g:\\ProjectRiemann\\Camouflage-Object-Detection\\wandb\\run-20230208_140439-ijlvhg12</code>"
      ],
      "text/plain": [
       "<IPython.core.display.HTML object>"
      ]
     },
     "metadata": {},
     "output_type": "display_data"
    },
    {
     "data": {
      "text/html": [
       "Syncing run <strong><a href=\"http://10.24.1.19:8080/sathishkumartheta/Camouflage-object-detection/runs/ijlvhg12\" target=\"_blank\">solar-meadow-5</a></strong> to <a href=\"http://10.24.1.19:8080/sathishkumartheta/Camouflage-object-detection\" target=\"_blank\">Weights & Biases</a> (<a href=\"https://wandb.me/run\" target=\"_blank\">docs</a>)<br/>"
      ],
      "text/plain": [
       "<IPython.core.display.HTML object>"
      ]
     },
     "metadata": {},
     "output_type": "display_data"
    },
    {
     "data": {
      "text/html": [
       " View project at <a href=\"http://10.24.1.19:8080/sathishkumartheta/Camouflage-object-detection\" target=\"_blank\">http://10.24.1.19:8080/sathishkumartheta/Camouflage-object-detection</a>"
      ],
      "text/plain": [
       "<IPython.core.display.HTML object>"
      ]
     },
     "metadata": {},
     "output_type": "display_data"
    },
    {
     "data": {
      "text/html": [
       " View run at <a href=\"http://10.24.1.19:8080/sathishkumartheta/Camouflage-object-detection/runs/ijlvhg12\" target=\"_blank\">http://10.24.1.19:8080/sathishkumartheta/Camouflage-object-detection/runs/ijlvhg12</a>"
      ],
      "text/plain": [
       "<IPython.core.display.HTML object>"
      ]
     },
     "metadata": {},
     "output_type": "display_data"
    }
   ],
   "source": [
    "run = wandb.init(project='Camouflage-Object-Detection', entity='sathishkumartheta', job_type=\"upload\")\n",
    "\n",
    "\n"
   ]
  },
  {
   "cell_type": "code",
   "execution_count": 40,
   "metadata": {},
   "outputs": [
    {
     "data": {
      "text/plain": [
       "ArtifactManifestEntry(path='eda_table.table.json', digest='6NvLY7kYQXAzR6kaa5vHvw==', ref=None, birth_artifact_id=None, size=3035670, extra={}, local_path='C:\\\\Users\\\\ADMIN\\\\AppData\\\\Local\\\\wandb\\\\wandb\\\\artifacts\\\\staging\\\\tmpbkw4rbtx')"
      ]
     },
     "execution_count": 40,
     "metadata": {},
     "output_type": "execute_result"
    }
   ],
   "source": [
    "raw_data_at = wandb.Artifact('COD10K-v2', type=\"raw_data\")\n",
    "raw_data_at.add(table, \"eda_table\")"
   ]
  },
  {
   "cell_type": "code",
   "execution_count": 41,
   "metadata": {},
   "outputs": [
    {
     "data": {
      "text/plain": [
       "<wandb.sdk.wandb_artifacts.Artifact at 0x1d394f984f0>"
      ]
     },
     "execution_count": 41,
     "metadata": {},
     "output_type": "execute_result"
    }
   ],
   "source": [
    "\n",
    "run.log_artifact(raw_data_at)\n"
   ]
  },
  {
   "cell_type": "code",
   "execution_count": 42,
   "metadata": {},
   "outputs": [
    {
     "data": {
      "text/html": [
       "Waiting for W&B process to finish... <strong style=\"color:green\">(success).</strong>"
      ],
      "text/plain": [
       "<IPython.core.display.HTML object>"
      ]
     },
     "metadata": {},
     "output_type": "display_data"
    },
    {
     "data": {
      "text/html": [
       " View run <strong style=\"color:#cdcd00\">solar-meadow-5</strong> at: <a href=\"http://10.24.1.19:8080/sathishkumartheta/Camouflage-object-detection/runs/ijlvhg12\" target=\"_blank\">http://10.24.1.19:8080/sathishkumartheta/Camouflage-object-detection/runs/ijlvhg12</a><br/>Synced 4 W&B file(s), 0 media file(s), 9560 artifact file(s) and 0 other file(s)"
      ],
      "text/plain": [
       "<IPython.core.display.HTML object>"
      ]
     },
     "metadata": {},
     "output_type": "display_data"
    },
    {
     "data": {
      "text/html": [
       "Find logs at: <code>.\\wandb\\run-20230208_140439-ijlvhg12\\logs</code>"
      ],
      "text/plain": [
       "<IPython.core.display.HTML object>"
      ]
     },
     "metadata": {},
     "output_type": "display_data"
    }
   ],
   "source": [
    "run.finish()"
   ]
  }
 ],
 "metadata": {
  "kernelspec": {
   "display_name": "CamoTorch",
   "language": "python",
   "name": "python3"
  },
  "language_info": {
   "codemirror_mode": {
    "name": "ipython",
    "version": 3
   },
   "file_extension": ".py",
   "mimetype": "text/x-python",
   "name": "python",
   "nbconvert_exporter": "python",
   "pygments_lexer": "ipython3",
   "version": "3.10.9"
  },
  "orig_nbformat": 4,
  "vscode": {
   "interpreter": {
    "hash": "54b1efcbe9702cb5a8b4c38cb931ca9223af49f11d78bd3b48c2307ccff1ccd7"
   }
  }
 },
 "nbformat": 4,
 "nbformat_minor": 2
}
